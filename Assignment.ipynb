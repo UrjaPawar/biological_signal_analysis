{
 "cells": [
  {
   "cell_type": "code",
   "execution_count": null,
   "metadata": {
    "collapsed": true
   },
   "outputs": [],
   "source": [
    "#I have chosen ECG signal to measure heart rate as it is accurate since it measures electrical activity of heart where as PPG\n",
    "#gives an after information when a heart beat is leading to expansion and contraction of blood vessels.\n",
    "#PPG is therefore, better used as a reference for static Heart Rate comparison\n",
    "#SCG is also not suitable since it measures the mechanical vibrations at the chest wall which are usually interfered by breathing.\n",
    "#However due to rich set of signals in SCG, it is very suitable for knowing health status of a heart"
   ]
  },
  {
   "cell_type": "code",
   "execution_count": 2,
   "metadata": {
    "collapsed": true
   },
   "outputs": [],
   "source": [
    "#first a panda series containing whole data is created\n",
    "import pandas as pd"
   ]
  },
  {
   "cell_type": "code",
   "execution_count": 3,
   "metadata": {
    "collapsed": false
   },
   "outputs": [
    {
     "data": {
      "text/html": [
       "<div>\n",
       "<table border=\"1\" class=\"dataframe\">\n",
       "  <thead>\n",
       "    <tr style=\"text-align: right;\">\n",
       "      <th></th>\n",
       "      <th>timestamp</th>\n",
       "      <th>stype</th>\n",
       "      <th>svalue1</th>\n",
       "      <th>svalue2</th>\n",
       "      <th>svalue3</th>\n",
       "      <th>svalue4</th>\n",
       "      <th>svalue5</th>\n",
       "      <th>svalue6</th>\n",
       "      <th>svalue7</th>\n",
       "      <th>svalue8</th>\n",
       "    </tr>\n",
       "  </thead>\n",
       "  <tbody>\n",
       "    <tr>\n",
       "      <th>0</th>\n",
       "      <td>1489577803572</td>\n",
       "      <td>1</td>\n",
       "      <td>1251323</td>\n",
       "      <td>1255899</td>\n",
       "      <td>1260163</td>\n",
       "      <td>1265777</td>\n",
       "      <td>1278019</td>\n",
       "      <td>NaN</td>\n",
       "      <td>NaN</td>\n",
       "      <td>NaN</td>\n",
       "    </tr>\n",
       "    <tr>\n",
       "      <th>1</th>\n",
       "      <td>1489577803613</td>\n",
       "      <td>1</td>\n",
       "      <td>1284469</td>\n",
       "      <td>1281837</td>\n",
       "      <td>1283630</td>\n",
       "      <td>1286204</td>\n",
       "      <td>1289904</td>\n",
       "      <td>NaN</td>\n",
       "      <td>NaN</td>\n",
       "      <td>NaN</td>\n",
       "    </tr>\n",
       "    <tr>\n",
       "      <th>2</th>\n",
       "      <td>1489577803655</td>\n",
       "      <td>1</td>\n",
       "      <td>1292391</td>\n",
       "      <td>1294136</td>\n",
       "      <td>1294613</td>\n",
       "      <td>1298420</td>\n",
       "      <td>1306429</td>\n",
       "      <td>NaN</td>\n",
       "      <td>NaN</td>\n",
       "      <td>NaN</td>\n",
       "    </tr>\n",
       "    <tr>\n",
       "      <th>3</th>\n",
       "      <td>1489577803696</td>\n",
       "      <td>1</td>\n",
       "      <td>1309257</td>\n",
       "      <td>1310302</td>\n",
       "      <td>1312566</td>\n",
       "      <td>1316189</td>\n",
       "      <td>1320997</td>\n",
       "      <td>NaN</td>\n",
       "      <td>NaN</td>\n",
       "      <td>NaN</td>\n",
       "    </tr>\n",
       "    <tr>\n",
       "      <th>4</th>\n",
       "      <td>1489577803737</td>\n",
       "      <td>1</td>\n",
       "      <td>1322548</td>\n",
       "      <td>1323961</td>\n",
       "      <td>1325421</td>\n",
       "      <td>1326048</td>\n",
       "      <td>1328162</td>\n",
       "      <td>NaN</td>\n",
       "      <td>NaN</td>\n",
       "      <td>NaN</td>\n",
       "    </tr>\n",
       "  </tbody>\n",
       "</table>\n",
       "</div>"
      ],
      "text/plain": [
       "       timestamp  stype  svalue1  svalue2  svalue3  svalue4  svalue5  svalue6  \\\n",
       "0  1489577803572      1  1251323  1255899  1260163  1265777  1278019      NaN   \n",
       "1  1489577803613      1  1284469  1281837  1283630  1286204  1289904      NaN   \n",
       "2  1489577803655      1  1292391  1294136  1294613  1298420  1306429      NaN   \n",
       "3  1489577803696      1  1309257  1310302  1312566  1316189  1320997      NaN   \n",
       "4  1489577803737      1  1322548  1323961  1325421  1326048  1328162      NaN   \n",
       "\n",
       "   svalue7  svalue8  \n",
       "0      NaN      NaN  \n",
       "1      NaN      NaN  \n",
       "2      NaN      NaN  \n",
       "3      NaN      NaN  \n",
       "4      NaN      NaN  "
      ]
     },
     "execution_count": 3,
     "metadata": {},
     "output_type": "execute_result"
    }
   ],
   "source": [
    "#adding columns explicitly\n",
    "whole_data=pd.read_csv('biological_data2.csv',names = ['timestamp','stype','svalue1','svalue2','svalue3','svalue4','svalue5','svalue6','svalue7','svalue8'])\n",
    "whole_data.head()"
   ]
  },
  {
   "cell_type": "code",
   "execution_count": 4,
   "metadata": {
    "collapsed": true
   },
   "outputs": [],
   "source": [
    "#some useful imports\n",
    "import numpy as np\n",
    "import seaborn as sns\n",
    "%matplotlib inline"
   ]
  },
  {
   "cell_type": "code",
   "execution_count": 5,
   "metadata": {
    "collapsed": false
   },
   "outputs": [
    {
     "data": {
      "text/html": [
       "<div>\n",
       "<table border=\"1\" class=\"dataframe\">\n",
       "  <thead>\n",
       "    <tr style=\"text-align: right;\">\n",
       "      <th></th>\n",
       "      <th>timestamp</th>\n",
       "      <th>stype</th>\n",
       "      <th>svalue1</th>\n",
       "      <th>svalue2</th>\n",
       "      <th>svalue3</th>\n",
       "      <th>svalue4</th>\n",
       "      <th>svalue5</th>\n",
       "    </tr>\n",
       "  </thead>\n",
       "  <tbody>\n",
       "    <tr>\n",
       "      <th>0</th>\n",
       "      <td>1489577803572</td>\n",
       "      <td>1</td>\n",
       "      <td>1251323</td>\n",
       "      <td>1255899</td>\n",
       "      <td>1260163</td>\n",
       "      <td>1265777</td>\n",
       "      <td>1278019</td>\n",
       "    </tr>\n",
       "    <tr>\n",
       "      <th>1</th>\n",
       "      <td>1489577803613</td>\n",
       "      <td>1</td>\n",
       "      <td>1284469</td>\n",
       "      <td>1281837</td>\n",
       "      <td>1283630</td>\n",
       "      <td>1286204</td>\n",
       "      <td>1289904</td>\n",
       "    </tr>\n",
       "    <tr>\n",
       "      <th>2</th>\n",
       "      <td>1489577803655</td>\n",
       "      <td>1</td>\n",
       "      <td>1292391</td>\n",
       "      <td>1294136</td>\n",
       "      <td>1294613</td>\n",
       "      <td>1298420</td>\n",
       "      <td>1306429</td>\n",
       "    </tr>\n",
       "    <tr>\n",
       "      <th>3</th>\n",
       "      <td>1489577803696</td>\n",
       "      <td>1</td>\n",
       "      <td>1309257</td>\n",
       "      <td>1310302</td>\n",
       "      <td>1312566</td>\n",
       "      <td>1316189</td>\n",
       "      <td>1320997</td>\n",
       "    </tr>\n",
       "    <tr>\n",
       "      <th>4</th>\n",
       "      <td>1489577803737</td>\n",
       "      <td>1</td>\n",
       "      <td>1322548</td>\n",
       "      <td>1323961</td>\n",
       "      <td>1325421</td>\n",
       "      <td>1326048</td>\n",
       "      <td>1328162</td>\n",
       "    </tr>\n",
       "  </tbody>\n",
       "</table>\n",
       "</div>"
      ],
      "text/plain": [
       "       timestamp  stype  svalue1  svalue2  svalue3  svalue4  svalue5\n",
       "0  1489577803572      1  1251323  1255899  1260163  1265777  1278019\n",
       "1  1489577803613      1  1284469  1281837  1283630  1286204  1289904\n",
       "2  1489577803655      1  1292391  1294136  1294613  1298420  1306429\n",
       "3  1489577803696      1  1309257  1310302  1312566  1316189  1320997\n",
       "4  1489577803737      1  1322548  1323961  1325421  1326048  1328162"
      ]
     },
     "execution_count": 5,
     "metadata": {},
     "output_type": "execute_result"
    }
   ],
   "source": [
    "#we need to seperate ECG data from the whole data\n",
    "#dropping the unnecessary columns -> svalue6,svalue7 & svalue8\n",
    "ecg_data=whole_data.loc[(whole_data[\"stype\"]==1), ['timestamp','stype','svalue1','svalue2','svalue3','svalue4','svalue5']]\n",
    "ecg_data.head()"
   ]
  },
  {
   "cell_type": "code",
   "execution_count": 6,
   "metadata": {
    "collapsed": false
   },
   "outputs": [
    {
     "data": {
      "text/html": [
       "<div>\n",
       "<table border=\"1\" class=\"dataframe\">\n",
       "  <thead>\n",
       "    <tr style=\"text-align: right;\">\n",
       "      <th></th>\n",
       "      <th>timestamp</th>\n",
       "      <th>svalue</th>\n",
       "    </tr>\n",
       "  </thead>\n",
       "  <tbody>\n",
       "  </tbody>\n",
       "</table>\n",
       "</div>"
      ],
      "text/plain": [
       "Empty DataFrame\n",
       "Columns: [ timestamp,  svalue]\n",
       "Index: []"
      ]
     },
     "execution_count": 6,
     "metadata": {},
     "output_type": "execute_result"
    }
   ],
   "source": [
    "#now we need to associate each signal value with the corresponding timestamp to be able to plot the data and hence calculate\n",
    "#R-R interval\n",
    "columns = [' timestamp',' svalue']\n",
    "df = pd.DataFrame(columns=columns)\n",
    "df"
   ]
  },
  {
   "cell_type": "code",
   "execution_count": 7,
   "metadata": {
    "collapsed": false
   },
   "outputs": [
    {
     "data": {
      "text/plain": [
       "0       NaN\n",
       "1      41.0\n",
       "2      42.0\n",
       "3      41.0\n",
       "4      41.0\n",
       "5      41.0\n",
       "6      41.0\n",
       "7      41.0\n",
       "8      41.0\n",
       "9      41.0\n",
       "10     41.0\n",
       "11     17.0\n",
       "12     41.0\n",
       "13     41.0\n",
       "14     41.0\n",
       "15     41.0\n",
       "16     41.0\n",
       "17     41.0\n",
       "18     41.0\n",
       "19     41.0\n",
       "20     41.0\n",
       "21     41.0\n",
       "22     41.0\n",
       "23     41.0\n",
       "24     41.0\n",
       "25     41.0\n",
       "26     41.0\n",
       "27     41.0\n",
       "28     41.0\n",
       "29     41.0\n",
       "       ... \n",
       "81     41.0\n",
       "82     41.0\n",
       "83     41.0\n",
       "84     41.0\n",
       "85     42.0\n",
       "86     17.0\n",
       "87     41.0\n",
       "88     41.0\n",
       "89     41.0\n",
       "90     41.0\n",
       "91     41.0\n",
       "92     41.0\n",
       "93     41.0\n",
       "94     41.0\n",
       "95     41.0\n",
       "96     41.0\n",
       "97     41.0\n",
       "98     41.0\n",
       "99     41.0\n",
       "100    41.0\n",
       "101    41.0\n",
       "102    41.0\n",
       "103    41.0\n",
       "104    41.0\n",
       "105    41.0\n",
       "106    41.0\n",
       "107    41.0\n",
       "108    41.0\n",
       "109    41.0\n",
       "110    41.0\n",
       "Name: timestamp, dtype: float64"
      ]
     },
     "execution_count": 7,
     "metadata": {},
     "output_type": "execute_result"
    }
   ],
   "source": [
    "#Analysis of data is required to avoid any mistakes\n",
    "#calculating diff so as to evenly distribute timestamps\n",
    "ecg_data['timestamp']-ecg_data['timestamp'].shift(1)\n",
    "#here 42 and 17 are interesting points, wherease the usual diff is 41"
   ]
  },
  {
   "cell_type": "code",
   "execution_count": 67,
   "metadata": {
    "collapsed": false
   },
   "outputs": [
    {
     "data": {
      "text/plain": [
       "3"
      ]
     },
     "execution_count": 67,
     "metadata": {},
     "output_type": "execute_result"
    }
   ],
   "source": [
    "#lets see how many such points are there\n",
    "diff=(ecg_data['timestamp']-ecg_data['timestamp'].shift(1)==42).sum()\n",
    "#we have 3 such points where we may face difficulty to distribute the time stamp\n",
    "#we will therefore assume the diff to be 41 only and skip the required timestamp as at the end we need to average"
   ]
  },
  {
   "cell_type": "code",
   "execution_count": 69,
   "metadata": {
    "collapsed": false
   },
   "outputs": [
    {
     "data": {
      "text/plain": [
       "4"
      ]
     },
     "execution_count": 69,
     "metadata": {},
     "output_type": "execute_result"
    }
   ],
   "source": [
    "#similary for \"17\"\n",
    "diff=(ecg_data['timestamp']-ecg_data['timestamp'].shift(1)==17).sum()\n",
    "diff\n",
    "#here also we will assume 17 as 16 so that it can be easily divided by 5 (signal values)\n",
    "#NOTE: If the diff between two timestamps(t and t+n) is n, then the distribution in the later one will start from t+1\n",
    "#hence the difference n-1 should be a multiple of 5 to evenly distribute the timestamps"
   ]
  },
  {
   "cell_type": "code",
   "execution_count": 70,
   "metadata": {
    "collapsed": false
   },
   "outputs": [
    {
     "data": {
      "text/plain": [
       "8"
      ]
     },
     "execution_count": 70,
     "metadata": {},
     "output_type": "execute_result"
    }
   ],
   "source": [
    "#other checks\n",
    "diff=(ecg_data['timestamp']-ecg_data['timestamp'].shift(1)!=41).sum()\n",
    "diff"
   ]
  },
  {
   "cell_type": "code",
   "execution_count": null,
   "metadata": {
    "collapsed": true
   },
   "outputs": [],
   "source": [
    "#8=4+3+\"NaN Value\", hence the interesting points are sorted\n",
    "#errors in those 7 values could be assumed as device/sensor errors and 7/110(total rows) <<1 so can be tweaked"
   ]
  },
  {
   "cell_type": "code",
   "execution_count": 8,
   "metadata": {
    "collapsed": false
   },
   "outputs": [],
   "source": [
    "#now, we will start distributing timestamps\n",
    "#for the first row, we assume the division bwteen consecutive signal values to be 40/5=8 (similar to most of the rows)\n",
    "diff_data=ecg_data['timestamp']-ecg_data['timestamp'].shift(1)\n",
    "columns = ['timestamp','svalue']\n",
    "df = pd.DataFrame(columns=columns)  "
   ]
  },
  {
   "cell_type": "code",
   "execution_count": 9,
   "metadata": {
    "collapsed": false
   },
   "outputs": [
    {
     "name": "stdout",
     "output_type": "stream",
     "text": [
      "        timestamp     svalue\n",
      "0    1.489578e+12  1251323.0\n",
      "1    1.489578e+12  1255899.0\n",
      "2    1.489578e+12  1260163.0\n",
      "3    1.489578e+12  1265777.0\n",
      "4    1.489578e+12  1278019.0\n",
      "5    1.489578e+12  1284469.0\n",
      "6    1.489578e+12  1281837.0\n",
      "7    1.489578e+12  1283630.0\n",
      "8    1.489578e+12  1286204.0\n",
      "9    1.489578e+12  1289904.0\n",
      "10   1.489578e+12  1292391.0\n",
      "11   1.489578e+12  1294136.0\n",
      "12   1.489578e+12  1294613.0\n",
      "13   1.489578e+12  1298420.0\n",
      "14   1.489578e+12  1306429.0\n",
      "15   1.489578e+12  1309257.0\n",
      "16   1.489578e+12  1310302.0\n",
      "17   1.489578e+12  1312566.0\n",
      "18   1.489578e+12  1316189.0\n",
      "19   1.489578e+12  1320997.0\n",
      "20   1.489578e+12  1322548.0\n",
      "21   1.489578e+12  1323961.0\n",
      "22   1.489578e+12  1325421.0\n",
      "23   1.489578e+12  1326048.0\n",
      "24   1.489578e+12  1328162.0\n",
      "25   1.489578e+12  1328412.0\n",
      "26   1.489578e+12  1330169.0\n",
      "27   1.489578e+12  1331461.0\n",
      "28   1.489578e+12  1332911.0\n",
      "29   1.489578e+12  1335883.0\n",
      "..            ...        ...\n",
      "525  1.489578e+12  1414703.0\n",
      "526  1.489578e+12  1413600.0\n",
      "527  1.489578e+12  1413656.0\n",
      "528  1.489578e+12  1413993.0\n",
      "529  1.489578e+12  1413268.0\n",
      "530  1.489578e+12  1414390.0\n",
      "531  1.489578e+12  1414052.0\n",
      "532  1.489578e+12  1413876.0\n",
      "533  1.489578e+12  1414254.0\n",
      "534  1.489578e+12  1413614.0\n",
      "535  1.489578e+12  1414462.0\n",
      "536  1.489578e+12  1413848.0\n",
      "537  1.489578e+12  1414323.0\n",
      "538  1.489578e+12  1414401.0\n",
      "539  1.489578e+12  1413726.0\n",
      "540  1.489578e+12  1414608.0\n",
      "541  1.489578e+12  1413953.0\n",
      "542  1.489578e+12  1414426.0\n",
      "543  1.489578e+12  1415109.0\n",
      "544  1.489578e+12  1414149.0\n",
      "545  1.489578e+12  1414661.0\n",
      "546  1.489578e+12  1414119.0\n",
      "547  1.489578e+12  1414531.0\n",
      "548  1.489578e+12  1414805.0\n",
      "549  1.489578e+12  1414414.0\n",
      "550  1.489578e+12  1415071.0\n",
      "551  1.489578e+12  1414058.0\n",
      "552  1.489578e+12  1414441.0\n",
      "553  1.489578e+12  1414760.0\n",
      "554  1.489578e+12  1414117.0\n",
      "\n",
      "[555 rows x 2 columns]\n"
     ]
    }
   ],
   "source": [
    "i=0\n",
    "for index, row in ecg_data.iterrows(): #each row of ecg_data is traversed column by column\n",
    "    if(index==0 or diff_data[index-1]!=17 ): #to take care of NaN and points having 17 as a diff of timestamps\n",
    "        k=40\n",
    "    else:\n",
    "        k=15\n",
    "    ts=row['timestamp'] #last timestamp of the row\n",
    "    ts_=ts-k #subtacting to get the timestamp to start adding divisions\n",
    "    d=int(k/5) #divisions\n",
    "    ts_=ts_+d #first column's timestamp\n",
    "    df.loc[i] = [ts_,row['svalue1']]\n",
    "    i+=1\n",
    "    ts_=ts_+d #second column's timestamp\n",
    "    df.loc[i] = [ts_,row['svalue2']]\n",
    "    i+=1\n",
    "    ts_=ts_+d #third column's timestamp\n",
    "    df.loc[i] = [ts_,row['svalue3']]\n",
    "    i+=1\n",
    "    ts_=ts_+d #fourth column's timestamp\n",
    "    df.loc[i] = [ts_,row['svalue4']]\n",
    "    i+=1\n",
    "    ts_=ts_+d #fifth column's timestamp\n",
    "    df.loc[i] = [ts_,row['svalue5']]\n",
    "    i+=1\n",
    "print(df)\n",
    "    "
   ]
  },
  {
   "cell_type": "code",
   "execution_count": 10,
   "metadata": {
    "collapsed": false
   },
   "outputs": [
    {
     "data": {
      "text/plain": [
       "1489577807989.0"
      ]
     },
     "execution_count": 10,
     "metadata": {},
     "output_type": "execute_result"
    }
   ],
   "source": [
    "df.iloc[554,0] #check "
   ]
  },
  {
   "cell_type": "code",
   "execution_count": 11,
   "metadata": {
    "collapsed": false
   },
   "outputs": [
    {
     "data": {
      "text/plain": [
       "<matplotlib.text.Text at 0x623d071978>"
      ]
     },
     "execution_count": 11,
     "metadata": {},
     "output_type": "execute_result"
    },
    {
     "data": {
      "image/png": "[encoded data removed]",
      "text/plain": [
       "<matplotlib.figure.Figure at 0x623cff35f8>"
      ]
     },
     "metadata": {},
     "output_type": "display_data"
    }
   ],
   "source": [
    "#plotting\n",
    "ax=df.plot(x='timestamp', y='svalue',color='teal') \n",
    "ax.set_xlabel(\"Timestamp\")\n",
    "ax.set_ylabel(\"Signal Value\")"
   ]
  },
  {
   "cell_type": "code",
   "execution_count": 55,
   "metadata": {
    "collapsed": false
   },
   "outputs": [],
   "source": [
    "#we notice that 4 peaks are there and we have to find heartbeat using the difference between corresponding time intervals\n"
   ]
  },
  {
   "cell_type": "code",
   "execution_count": 50,
   "metadata": {
    "collapsed": false
   },
   "outputs": [],
   "source": [
    "#numpy arrays essential for peak detection\n",
    "signal_value= np.array(df['svalue'])\n",
    "time_stamp=np.array(df['timestamp']) "
   ]
  },
  {
   "cell_type": "code",
   "execution_count": 51,
   "metadata": {
    "collapsed": false
   },
   "outputs": [
    {
     "name": "stdout",
     "output_type": "stream",
     "text": [
      "[  5 113 222 334 447 550]\n",
      "[  1.48957780e+12   1.48957780e+12   1.48957781e+12   1.48957781e+12\n",
      "   1.48957781e+12   1.48957781e+12] [ 1284469.  1413097.  1424002.  1426941.  1424423.  1415071.]\n"
     ]
    },
    {
     "data": {
      "text/plain": [
       "<matplotlib.text.Text at 0x623dbf1668>"
      ]
     },
     "execution_count": 51,
     "metadata": {},
     "output_type": "execute_result"
    },
    {
     "data": {
      "image/png": "[encoded data removed]",
      "text/plain": [
       "<matplotlib.figure.Figure at 0x623dbc5b38>"
      ]
     },
     "metadata": {},
     "output_type": "display_data"
    }
   ],
   "source": [
    "import peakutils\n",
    "from peakutils.plot import plot as pplot\n",
    "from matplotlib import pyplot\n",
    "indexes = peakutils.indexes(signal_value, thres=0.02/max(cb), min_dist=100)\n",
    "print(indexes)\n",
    "print(time_stamp[indexes], signal_value[indexes])\n",
    "pyplot.figure(figsize=(10,6))\n",
    "pplot(time_stamp, signal_value, indexes)\n",
    "pyplot.title('Peaks in the ECG')"
   ]
  },
  {
   "cell_type": "code",
   "execution_count": 56,
   "metadata": {
    "collapsed": false
   },
   "outputs": [
    {
     "name": "stdout",
     "output_type": "stream",
     "text": [
      "Calculated heart rate is 67 beats per minutes\n"
     ]
    }
   ],
   "source": [
    "#we observe the detection of peaks\n",
    "#we are interested in middle points -> 113, 222, 334 & 447\n",
    "peak_points=pd.Series([113,222,334,447])\n",
    "r_r_intervals=pd.Series(time_stamp[peak_points])#corresponding timestamps\n",
    "#assuming the intervals are in milliseconds, r_r_intervals needs to be divided by 1000 to get them in seconds (since interval\n",
    "#between two beats should be in the range of 0.6 to 1 second)\n",
    "r_r_intervals=r_r_intervals/1000\n",
    "heart_rate=60/(r_r_intervals-r_r_intervals.shift(1)) #calculated heart_rate in beats/minutes\n",
    "heart_rate_avg=int(heart_rate.mean()) #average heart rate as a whole number \n",
    "print(\"Calculated heart rate is\", heart_rate_avg, \"beats per minutes\")"
   ]
  },
  {
   "cell_type": "code",
   "execution_count": 54,
   "metadata": {
    "collapsed": false
   },
   "outputs": [
    {
     "name": "stdout",
     "output_type": "stream",
     "text": [
      " \n"
     ]
    }
   ],
   "source": []
  },
  {
   "cell_type": "code",
   "execution_count": null,
   "metadata": {
    "collapsed": true
   },
   "outputs": [],
   "source": []
  }
 ],
 "metadata": {
  "anaconda-cloud": {},
  "kernelspec": {
   "display_name": "Python [conda root]",
   "language": "python",
   "name": "conda-root-py"
  },
  "language_info": {
   "codemirror_mode": {
    "name": "ipython",
    "version": 3
   },
   "file_extension": ".py",
   "mimetype": "text/x-python",
   "name": "python",
   "nbconvert_exporter": "python",
   "pygments_lexer": "ipython3",
   "version": "3.5.2"
  }
 },
 "nbformat": 4,
 "nbformat_minor": 1
}
